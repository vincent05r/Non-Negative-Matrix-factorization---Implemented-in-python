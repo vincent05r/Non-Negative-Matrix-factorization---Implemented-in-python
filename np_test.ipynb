{
 "cells": [
  {
   "cell_type": "code",
   "execution_count": 1,
   "metadata": {},
   "outputs": [],
   "source": [
    "import numpy as np"
   ]
  },
  {
   "cell_type": "code",
   "execution_count": 13,
   "metadata": {},
   "outputs": [
    {
     "name": "stdout",
     "output_type": "stream",
     "text": [
      "(2,)\n",
      "(2,)\n",
      "(2, 1)\n",
      "(1, 2)\n",
      "[[-4.+0.j -6.+0.j]\n",
      " [-6.+0.j -9.+0.j]] (2, 2)\n"
     ]
    }
   ],
   "source": [
    "#test 1\n",
    "\n",
    "\n",
    "x1 = np.array([2j, 3j])\n",
    "\n",
    "print(x1.shape)\n",
    "\n",
    "x1 = x1.reshape(-1,1)\n",
    "\n",
    "\n",
    "\n",
    "\n",
    "x2 = np.array([2j, 3j])\n",
    "\n",
    "print(x2.shape)\n",
    "\n",
    "x2 = x2.reshape(1,-1)\n",
    "\n",
    "\n",
    "\n",
    "r = x1 @ x2\n",
    "\n",
    "\n",
    "\n",
    "print(x1.shape)\n",
    "print(x2.shape)\n",
    "print(r, r.shape)\n"
   ]
  },
  {
   "cell_type": "code",
   "execution_count": null,
   "metadata": {},
   "outputs": [],
   "source": []
  }
 ],
 "metadata": {
  "kernelspec": {
   "display_name": "Python 3.9.12 ('tf')",
   "language": "python",
   "name": "python3"
  },
  "language_info": {
   "codemirror_mode": {
    "name": "ipython",
    "version": 3
   },
   "file_extension": ".py",
   "mimetype": "text/x-python",
   "name": "python",
   "nbconvert_exporter": "python",
   "pygments_lexer": "ipython3",
   "version": "3.9.12"
  },
  "orig_nbformat": 4,
  "vscode": {
   "interpreter": {
    "hash": "f7ab4b668b9c3253ac8de087697e889de689ad4be6a3547b9edfeb441b24f2d5"
   }
  }
 },
 "nbformat": 4,
 "nbformat_minor": 2
}
