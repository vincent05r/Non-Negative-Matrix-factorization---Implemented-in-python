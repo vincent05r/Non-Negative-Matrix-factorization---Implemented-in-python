{
 "cells": [
  {
   "cell_type": "code",
   "execution_count": 1,
   "metadata": {},
   "outputs": [],
   "source": [
    "import numpy as np"
   ]
  },
  {
   "cell_type": "code",
   "execution_count": 2,
   "metadata": {},
   "outputs": [],
   "source": [
    "\n",
    "def random_initialization(A,rank):\n",
    "    number_of_documents = A.shape[0]\n",
    "    number_of_terms = A.shape[1]\n",
    "    W = np.random.uniform(1,2,(number_of_documents,rank))\n",
    "    H = np.random.uniform(1,2,(rank,number_of_terms))\n",
    "    return W,H\n",
    "                          \n",
    "\n",
    "def nndsvd_initialization(A,rank):\n",
    "\n",
    "    u,s,v=np.linalg.svd(A,full_matrices=False)\n",
    "\n",
    "    v=v.T\n",
    "    w=np.zeros((A.shape[0],rank))\n",
    "    h=np.zeros((rank,A.shape[1]))\n",
    "\n",
    "    w[:,0]=np.sqrt(s[0])*np.abs(u[:,0])\n",
    "    h[0,:]=np.sqrt(s[0])*np.abs(v[:,0].T)\n",
    "\n",
    "    for i in range(1,rank):\n",
    "        \n",
    "        ui=u[:,i]\n",
    "        vi=v[:,i]\n",
    "        ui_pos=(ui>=0)*ui\n",
    "        ui_neg=(ui<0)*-ui\n",
    "        vi_pos=(vi>=0)*vi\n",
    "        vi_neg=(vi<0)*-vi\n",
    "        \n",
    "        ui_pos_norm=np.linalg.norm(ui_pos,2)\n",
    "        ui_neg_norm=np.linalg.norm(ui_neg,2)\n",
    "        vi_pos_norm=np.linalg.norm(vi_pos,2)\n",
    "        vi_neg_norm=np.linalg.norm(vi_neg,2)\n",
    "        \n",
    "        norm_pos=ui_pos_norm*vi_pos_norm\n",
    "        norm_neg=ui_neg_norm*vi_neg_norm\n",
    "        \n",
    "        if norm_pos>=norm_neg:\n",
    "            w[:,i]=np.sqrt(s[i]*norm_pos)/ui_pos_norm*ui_pos\n",
    "            h[i,:]=np.sqrt(s[i]*norm_pos)/vi_pos_norm*vi_pos.T\n",
    "        else:\n",
    "            w[:,i]=np.sqrt(s[i]*norm_neg)/ui_neg_norm*ui_neg\n",
    "            h[i,:]=np.sqrt(s[i]*norm_neg)/vi_neg_norm*vi_neg.T\n",
    "\n",
    "    return w,h\n",
    "\n",
    "\n",
    "def mu_method(A,k,max_iter,init_mode='random'):\n",
    "    \n",
    "    if init_mode == 'random':\n",
    "        W ,H = random_initialization(A,k)\n",
    "    elif init_mode == 'nndsvd':\n",
    "        W ,H = nndsvd_initialization(A,k) \n",
    "\n",
    "    norms = []\n",
    "\n",
    "    e = 1.0e-10\n",
    "\n",
    "    for n in range(max_iter):\n",
    "\n",
    "        # Update H\n",
    "        W_TA = W.T@A\n",
    "        W_TWH = W.T@W@H+e\n",
    "        for i in range(np.size(H, 0)):\n",
    "            for j in range(np.size(H, 1)):\n",
    "                H[i, j] = H[i, j] * W_TA[i, j] / W_TWH[i, j]\n",
    "                \n",
    "        # Update W\n",
    "        AH_T = A@H.T\n",
    "        WHH_T =  W@H@H.T+ e\n",
    "\n",
    "        for i in range(np.size(W, 0)):\n",
    "            for j in range(np.size(W, 1)):\n",
    "                W[i, j] = W[i, j] * AH_T[i, j] / WHH_T[i, j]\n",
    "\n",
    "        norm = np.linalg.norm(A - W@H, 'fro')\n",
    "        norms.append(norm)\n",
    "    return W ,H ,norms "
   ]
  },
  {
   "cell_type": "code",
   "execution_count": null,
   "metadata": {},
   "outputs": [],
   "source": []
  }
 ],
 "metadata": {
  "kernelspec": {
   "display_name": "Python 3.9.12 ('tf')",
   "language": "python",
   "name": "python3"
  },
  "language_info": {
   "codemirror_mode": {
    "name": "ipython",
    "version": 3
   },
   "file_extension": ".py",
   "mimetype": "text/x-python",
   "name": "python",
   "nbconvert_exporter": "python",
   "pygments_lexer": "ipython3",
   "version": "3.9.12"
  },
  "vscode": {
   "interpreter": {
    "hash": "f7ab4b668b9c3253ac8de087697e889de689ad4be6a3547b9edfeb441b24f2d5"
   }
  }
 },
 "nbformat": 4,
 "nbformat_minor": 2
}
